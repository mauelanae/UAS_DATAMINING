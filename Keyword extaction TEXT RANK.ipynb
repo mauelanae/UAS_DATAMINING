{
 "cells": [
  {
   "cell_type": "code",
   "execution_count": 1,
   "id": "0ffab5cf",
   "metadata": {},
   "outputs": [],
   "source": [
    "import numpy as np\n",
    "import pandas as pd\n",
    "import nltk\n",
    "from nltk.tokenize import sent_tokenize, word_tokenize\n",
    "from nltk.corpus import stopwords\n",
    "from sklearn.metrics.pairwise import cosine_similarity\n",
    "import re\n"
   ]
  },
  {
   "cell_type": "code",
   "execution_count": 2,
   "id": "1970e86b",
   "metadata": {},
   "outputs": [
    {
     "name": "stdout",
     "output_type": "stream",
     "text": [
      "                                               Judul  \\\n",
      "0  SISTEM PENDUKUNG KEPUTUSAN UNTUK MENENTUKAN JU...   \n",
      "1  Sistem Pendukung Keputusan Pemilihan Topik Skr...   \n",
      "2  Sistem Pendukung Keputusan Rekomendasi Judul S...   \n",
      "3  Sistem Penunjang Keputusan Metode Technique Or...   \n",
      "4  SISTEM PENDUKUNG KEPUTUSAN MENENTUKAN JUDUL SK...   \n",
      "\n",
      "                                            Abstract  \n",
      "0  Dalam Perguruan Tinggi, kelulusan mahasiswa bi...  \n",
      "1  Jurusan Teknik Informatika di STMIK Pelita Nus...  \n",
      "2  Penerapan metode ELECTRE dalam sistem pendukun...  \n",
      "3  Informasi menjadi salah satu kebutuhan dalam s...  \n",
      "4  Proses pendidikan yang harus ditempuh untuk me...  \n"
     ]
    }
   ],
   "source": [
    "data = pd.read_csv(r'C:\\Users\\AinXD\\Documents\\dataset\\judul abstrak.csv')\n",
    "judul = data['Judul']\n",
    "abstrak = data['Abstract']\n",
    "print (data)"
   ]
  },
  {
   "cell_type": "code",
   "execution_count": 3,
   "id": "82b5b5e4",
   "metadata": {},
   "outputs": [],
   "source": [
    "# pre procesing\n",
    "\n",
    "def preprocess_text(text):\n",
    "    if isinstance(text, str):\n",
    "        \n",
    "# Menghapus angka\n",
    "        text = re.sub(r'\\d+', '', text)  \n",
    "    \n",
    "# Menghapus karakter khusus\n",
    "        text = re.sub(r'[^\\w\\s]', '', text)\n",
    "    \n",
    "# Mengubah teks menjadi lowercase\n",
    "        text = text.lower() \n",
    "    return text"
   ]
  },
  {
   "cell_type": "code",
   "execution_count": 4,
   "id": "06b13f83",
   "metadata": {},
   "outputs": [],
   "source": [
    "for key in data:\n",
    "    data[key] = data[key].apply(preprocess_text)\n"
   ]
  },
  {
   "cell_type": "code",
   "execution_count": 5,
   "id": "137960ba",
   "metadata": {},
   "outputs": [],
   "source": [
    "# pre processing\n",
    "def preprocess_text(text):\n",
    "    stop_words = set(stopwords.words('indonesian'))\n",
    "    words = word_tokenize(str(text).lower())\n",
    "    words = [word for word in words if word.isalnum() and word not in stop_words]\n",
    "    return words"
   ]
  },
  {
   "cell_type": "code",
   "execution_count": 6,
   "id": "a8b61f64",
   "metadata": {},
   "outputs": [],
   "source": [
    "# Membangun graf berbasis kata-kunci\n",
    "def build_keyword_graph(texts):\n",
    "    sentences = [sent_tokenize(text) for text in texts]\n",
    "    words = [preprocess_text(text) for text in texts]\n",
    "    unique_words = list(set([word for sublist in words for word in sublist]))\n",
    "\n",
    "    word_index = {word: index for index, word in enumerate(unique_words)}\n",
    "    graph = np.zeros((len(unique_words), len(unique_words)))\n",
    "\n",
    "    for sentence in words:\n",
    "        for i in range(len(sentence)):\n",
    "            for j in range(i+1, len(sentence)):\n",
    "                word_i = sentence[i]\n",
    "                word_j = sentence[j]\n",
    "                graph[word_index[word_i]][word_index[word_j]] += 1\n",
    "                graph[word_index[word_j]][word_index[word_i]] += 1\n",
    "\n",
    "    return graph, unique_words"
   ]
  },
  {
   "cell_type": "code",
   "execution_count": 7,
   "id": "550d0ef7",
   "metadata": {},
   "outputs": [],
   "source": [
    "def extract_keywords(texts, top_n=3):\n",
    "    graph, unique_words = build_keyword_graph(texts)\n",
    "    similarity_matrix = cosine_similarity(graph)\n",
    "\n",
    "    scores = np.sum(similarity_matrix, axis=1)\n",
    "    top_indices = np.argsort(scores)[-top_n:][::-1]\n",
    "    keywords = [unique_words[index] for index in top_indices]\n",
    "\n",
    "    # Menggabungkan dua kata pertama dalam satu kata kunci\n",
    "    combined_keywords = [\" \".join(keyword.split()[:2]) for keyword in keywords]\n",
    "\n",
    "    return combined_keywords"
   ]
  },
  {
   "cell_type": "code",
   "execution_count": 10,
   "id": "3463de25",
   "metadata": {},
   "outputs": [
    {
     "name": "stdout",
     "output_type": "stream",
     "text": [
      "Abstrak: dalam perguruan tinggi kelulusan mahasiswa bisa didapatkan jika sudah mengerjakan skripsi bagi mahasiswa strata s skripsi merupakan tugas akhir yang harus dikerjakan oleh mahasiswa sesuai bidang keilmuannya kewajiban untuk mengerjakan skripsi yang sudah didasari ilmu â ilmu pada saat kuliah ternyata masih membuat mahasiswa bingung dalam menentukan judul skripsi penentuan judul skripsi menjadi sangat penting jika mahasiswa akan mengerjakan skripsi pada penelitian ini diangkat kasus demikian dengan memberikan bantuan kepada mahasiswa untuk menentukan judul skripsi melalui sebuah perhitungan metode yang ada pada sistem pendukung keputusan untuk menentukan judul skripsi menggunakan metode topsis dalam perhitungan dengan menggunakan kriterianya yaitu nilai akademik histories project keaktifan penelitian pelatihan minat topsis dipilih karena merupakan metode dengan konsep sederhana dan mudah dipahami serta praktis metode ini memiliki hasil jarak terkecil dari solusi ideal positif dan jarak terbesar dari solusi ideal negatif hasil dari proses pegimplementasian dapat mengurutkan bidang ilmu yang seharusnya dijadikan judul skripsi mulai dari hasil terendah hingga tertinggi\n",
      "Kata-kunci: ['skripsi', 'judul', 'mahasiswa']\n",
      "--------------------\n",
      "Abstrak: jurusan teknik informatika di stmik pelita nusantara merupakan salah satu jurusan pada perguruan tinggi swasta fokus pada keilmuan bidang teknologi informasi problem skripsi pada jurusan ini juga harus diselesaikan dengan segera salah satunya dengan sistem yang memanfaatkan teknologi informasi kondisi mahasiswa kesulitan untuk menentukan pilihan topik skripsi untuk disusun sebagai persyaratan lulus kriteria yang digunakan ada  yaitu  nilai akademik histories project keaktifan penelitian pelatihan minat nilai praktek dan tempat penelitian data penelitian diperoleh dari stmik pelita nusantara diterapkan metode saw simple additive weighting menggunakan visual basic net  dengan database mysql dari perangkingan menunjukkan hasil yang tertinggi adalah alternatif a dimana dalam contoh ini topik skripsi yang di pilih adalah sistem pakar\n",
      "Kata-kunci: ['skripsi', 'persyaratan', 'pemilihan']\n",
      "--------------------\n",
      "Abstrak: penerapan metode electre dalam sistem pendukung keputusan ini digunakan untuk memberikan rekomendasi judul skripsi kepada mahasiswa prodi teknik informatika universitas muhammadiyah pontianak sistem ini bertujuan untuk memberikan rekomendasi bukan untuk menentukan judul skripsi dengan lima kriteria yang telah ditetapkan yaitu nilai akademik history projects penelitian pelatihan dan minat serta alternatif berupa judul skripsi yang dapat diinputkan berdasarkan keinginan user yaitu mahasiswa metode electre banyak digunakan dalam penelitian dengan kasus yang lebih banyak melibatkan alternatif daripada kriteria sehingga cocok digunakan dalam penelitian ini berdasarkan hasil perhitungan electre didapatkan satu dari empat data alternatif yang direkomendasikan untuk dijadikan judul skripsi karena memiliki nilai  dan alternatif lainnya memiliki nilai  sehingga nilai  tersebut dieliminasi dan tidak dapat dijadikan rekomendasi penelitian ini melibatkan  orang responden yaitu mahasiswa teknik informatika untuk dilakukan pengujian user acceptance test berdasarkan data kuesioner yang dibagikan kepada responden menunjukkan bahwa usability sistem sangat kuat dan dapat diterima oleh user dengan persentase yang didapatkan sebesar \n",
      "Kata-kunci: ['judul', 'skripsi', 'minat']\n",
      "--------------------\n",
      "Abstrak: informasi menjadi salah satu kebutuhan dalam sebuah institusi informasi dimanfaatkan untuk menambah pengetahuan mengurangi resiko kegagalan dan membantu pengguna dalam pengambilan keputusan yang diinginkan salah satu alat yang dapat digunakan dalam mencari informasi adalah dengan menggunakan mesin pencari sistem pendukung keputusan berfungsi untuk membantu dalam pengambilan keputusan untuk memecahkan suatu masalah terutama berbagai masalah yang sangat kompleks dan tidak terstruktur tugas akhir tersebut perlu bagi mahasiswa sebagai materi pelajaran atau sebagai referensi bagi penelitian mereka metode yang digunakan untuk sistem pendukung keputusan penentuan judul skripsi program studi teknik informatika adalah dengan menggunakan metode technique order preference by similarity to ideal solution topsis metode ini dipilih karena mampu memilih alternatif terbaik dari sejumlah alternatif dalam hal ini alternatif yang dimaksud adalah ranking bidang ilmu untuk menentukan judul skripsi berdasarkan kriteriakriteria yang telah ditentukan\n",
      "Kata-kunci: ['keputusan', 'metode', 'berbasis']\n",
      "--------------------\n",
      "Abstrak: proses pendidikan yang harus ditempuh untuk memperoleh gelar sarjana adalah pendidikan pada jenjang perguruan tinggi pada perguruan tinggi ada syarat yang harus dipenuhi guna mendapatkan gelar sarjana tersebut sesuai bidang keilmuan yang dipelajari baik perguruan tinggi swasta pts maupun perguruan tinggi negeri ptn mengharuskan mahasiswanya untuk mengerjakan skripsi sebagai syarat memperoleh gelar sarjana sesuai bidang keilmuan yang dipelajari sistem pendukung keputusan ini memiliki hasil akhir berupa perankingan bidang studi yang dapat dijadikan acuan dalam menentukan judul skripsi sehingga mahasiswa dibantu dalam melihat fokus bidang ilmu yang seharusnya dijadikan judul skripsi sesuai dengan kemampuan dan nilai dari kriteria yang ada\n",
      "Kata-kunci: ['acuan', 'pts', 'program']\n",
      "--------------------\n"
     ]
    }
   ],
   "source": [
    "# Ekstraksi kata-kunci dari data judul dan abstrak\n",
    "for i in range(len(judul)):\n",
    "    title = judul[i]\n",
    "    abstract = abstrak[i]\n",
    "    text = str(abstract) + \" \" + str(title)\n",
    "    keywords = extract_keywords([text], top_n=3)\n",
    "\n",
    "    print(\"Abstrak:\", abstract)\n",
    "    print(\"Kata-kunci:\", keywords)\n",
    "    print(\"--------------------\")"
   ]
  },
  {
   "cell_type": "code",
   "execution_count": null,
   "id": "857682e2",
   "metadata": {},
   "outputs": [],
   "source": []
  },
  {
   "cell_type": "code",
   "execution_count": null,
   "id": "e1ed871c",
   "metadata": {},
   "outputs": [],
   "source": []
  }
 ],
 "metadata": {
  "kernelspec": {
   "display_name": "Python 3 (ipykernel)",
   "language": "python",
   "name": "python3"
  },
  "language_info": {
   "codemirror_mode": {
    "name": "ipython",
    "version": 3
   },
   "file_extension": ".py",
   "mimetype": "text/x-python",
   "name": "python",
   "nbconvert_exporter": "python",
   "pygments_lexer": "ipython3",
   "version": "3.7.6"
  }
 },
 "nbformat": 4,
 "nbformat_minor": 5
}
